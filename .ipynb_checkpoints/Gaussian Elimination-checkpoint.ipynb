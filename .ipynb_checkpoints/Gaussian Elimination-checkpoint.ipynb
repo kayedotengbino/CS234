{
 "cells": [
  {
   "cell_type": "markdown",
   "metadata": {},
   "source": [
    "# Gaussian elimination\n",
    "\n",
    "This Julia notebook allows us to interactively visualize the process of Gaussian elimination.\n",
    "\n",
    "Recall that the process of [Gaussian elimination](https://en.wikipedia.org/wiki/Gaussian_elimination) involves subtracting rows to turn a matrix $A$ into an [upper triangular matrix](https://en.wikipedia.org/wiki/Triangular_matrix) $U$.  Often we *augment* the matrix with an additional column, representing the right-hand side $b$ of a system of equations $Ax=b$ that we want to solve: by doing the same row operations to both $A$ and $b$, we arrive at an equivalent equation $Ux=c$ that is easy to solve by *backsubstitution* (solving for one variable at a time, working from the last row to the top row).\n",
    "\n",
    "For example, suppose we are solving:\n",
    "\n",
    "$$\n",
    "Ax = \n",
    "\\begin{pmatrix}\n",
    "1 & 3 & 1  \\\\\n",
    "1 & 1 & -1  \\\\\n",
    "3 & 11 & 6 \n",
    "\\end{pmatrix} x = \n",
    "\\begin{pmatrix}\n",
    "9 \\\\\n",
    "1 \\\\\n",
    "35\n",
    "\\end{pmatrix} = b\n",
    "$$\n",
    "\n",
    "We would perform the following elimination process.\n",
    "\n",
    "$$\n",
    "\\left[\\begin{array}{rrr|r}\n",
    "\\boxed{1} & 3 & 1 & 9 \\\\\n",
    "1 & 1 & -1 & 1 \\\\\n",
    "3 & 11 & 6 & 35\n",
    "\\end{array}\\right]\\to\n",
    "\\left[\\begin{array}{rrr|r}\n",
    "\\boxed{1} & 3 & 1 & 9 \\\\\n",
    "0 & \\boxed{-2} & -2 & -8 \\\\\n",
    "0 & 2 & 3 & 8\n",
    "\\end{array}\\right]\\to\n",
    "\\left[\\begin{array}{rrr|r}\n",
    "\\boxed{1} & 3 & 1 & 9 \\\\\n",
    "0 & \\boxed{-2} & -2 & -8 \\\\\n",
    "0 & 0 & \\boxed{1} & 0\n",
    "\\end{array}\\right]\n",
    "$$\n",
    "\n",
    "The boxed values are known as the **pivots**.  Now we do **backsubstitution**, working from the bottom up.  The last row is a single equation in a single unknown:\n",
    "\n",
    "$$\n",
    "1 x_3 = 0 \\implies x_3 = 0 .\n",
    "$$\n",
    "\n",
    "Now that we know $x_3$, the second row gives:\n",
    "\n",
    "$$\n",
    "-2x_2 - 2x_3 = -8 \\implies -2x_2 - 0 = -8 \\implies x_2 = 4 .\n",
    "$$\n",
    "\n",
    "Finally, now that we know $x_2$ and $x_3$, the first row gives:\n",
    "\n",
    "$$\n",
    "1 x_1 + 3 x_2 + 1x_3 = 9 \\implies x_1 + 12 + 0 = 9 \\implies x_1 = -3.\n",
    "$$\n",
    "\n",
    "It is much more fun to let the computer do the arithmetic than to crunch through it ourselves on the blackboard, but usually the computer does things *too* quickly (and it often does some re-ordering of the rows that makes it harder to follow what is going on).  For example, in Julia, we can solve the above system of equations by simply:"
   ]
  },
  {
   "cell_type": "code",
   "execution_count": 3,
   "metadata": {},
   "outputs": [
    {
     "ename": "LoadError",
     "evalue": "UndefVarError: a not defined",
     "output_type": "error",
     "traceback": [
      "UndefVarError: a not defined",
      "",
      "Stacktrace:",
      " [1] top-level scope at In[3]:1",
      " [2] include_string(::Function, ::Module, ::String, ::String) at .\\loading.jl:1091"
     ]
    }
   ],
   "source": [
    "A = [1 3  1\n",
    "     1 1 a\n",
    "     3 11 6]"
   ]
  },
  {
   "cell_type": "code",
   "execution_count": 2,
   "metadata": {},
   "outputs": [
    {
     "data": {
      "text/plain": [
       "3-element Array{Int64,1}:\n",
       "  9\n",
       "  1\n",
       " 35"
      ]
     },
     "execution_count": 2,
     "metadata": {},
     "output_type": "execute_result"
    }
   ],
   "source": [
    "b = [9, 1, 35]"
   ]
  },
  {
   "cell_type": "code",
   "execution_count": 3,
   "metadata": {},
   "outputs": [
    {
     "data": {
      "text/plain": [
       "3-element Array{Float64,1}:\n",
       " -3.0\n",
       "  4.0\n",
       "  0.0"
      ]
     },
     "execution_count": 3,
     "metadata": {},
     "output_type": "execute_result"
    }
   ],
   "source": [
    "x = A \\ b # solves Ax = b by (essentially) Gaussian elimination"
   ]
  },
  {
   "cell_type": "code",
   "execution_count": 4,
   "metadata": {},
   "outputs": [
    {
     "data": {
      "text/plain": [
       "3-element Array{Float64,1}:\n",
       " -3.0\n",
       "  4.0\n",
       "  0.0"
      ]
     },
     "execution_count": 4,
     "metadata": {},
     "output_type": "execute_result"
    }
   ],
   "source": [
    "inv(A) * b"
   ]
  },
  {
   "cell_type": "markdown",
   "metadata": {},
   "source": [
    "## Row swaps\n",
    "\n",
    "Occasionally, we may encounter a zero in the pivot position.  Sometimes this means that the equations are **singular** (may have no solutions) — we will talk more about this later.  However, as long as there is a nonzero value *below* the pivot, we can fix the problem by **swapping rows** (which just corresponds to re-ordering the equations).\n",
    "\n",
    "For example:\n",
    "\n",
    "\n",
    "$$\n",
    "\\left[\\begin{array}{rrr|r}\n",
    "\\boxed{1} & 3 & 1 & 9 \\\\\n",
    "1 & 3 & -1 & 1 \\\\\n",
    "3 & 11 & 6 & 35\n",
    "\\end{array}\\right]\\to\n",
    "\\left[\\begin{array}{rrr|r}\n",
    "\\boxed{1} & 3 & 1 & 9 \\\\\n",
    "0 & 0 & -2 & -8 \\\\\n",
    "0 & 2 & 3 & 8\n",
    "\\end{array}\\right]\\to\n",
    "\\left[\\begin{array}{rrr|r}\n",
    "\\boxed{1} & 3 & 1 & 9 \\\\\n",
    "0 & \\boxed{2} & 3 & 8 \\\\\n",
    "0 & 0 & \\boxed{-2} & -8\n",
    "\\end{array}\\right]\n",
    "$$\n",
    "\n",
    "where in the second step we swapped the second and third rows to get a nonzero pivot in the second row.\n",
    "\n",
    "At this point we can again solve bottom-up by backsubstitution:\n",
    "\n",
    "$$\n",
    "-2x_3 = 8 \\implies x_3 = 4 \\\\\n",
    "2x_2 + 3x_3 = 8 = 2x_2 + 12 \\implies x_2 = -2 \\\\\n",
    "x_1 + 3x_2 + x_3 = 9 = x_1 -6 + 4 \\implies x_3 = 11\n",
    "$$\n",
    "\n",
    "Of course, the computer can get the answer much more quickly and easily:"
   ]
  },
  {
   "cell_type": "code",
   "execution_count": 5,
   "metadata": {},
   "outputs": [
    {
     "data": {
      "text/plain": [
       "3-element Array{Float64,1}:\n",
       " 11.000000000000005 \n",
       " -2.0000000000000013\n",
       "  4.0               "
      ]
     },
     "execution_count": 5,
     "metadata": {},
     "output_type": "execute_result"
    }
   ],
   "source": [
    "[ 1 3  1\n",
    "  1 3 -1\n",
    "  3 11 6 ] \\\n",
    "[9\n",
    " 1\n",
    " 35]"
   ]
  },
  {
   "cell_type": "markdown",
   "metadata": {},
   "source": [
    "## “Big” matrices on the computer\n",
    "\n",
    "Of course, the computer can solve *much bigger problems* easily.  It can solve 1000 equations in 1000 unknowns in a fraction of a second — nowadays, that is no longer considered a \"big\" system of equations."
   ]
  },
  {
   "cell_type": "code",
   "execution_count": 6,
   "metadata": {},
   "outputs": [
    {
     "data": {
      "text/plain": [
       "1000×1000 Array{Float64,2}:\n",
       " 0.718972    0.140503   0.520404   …  0.658315    0.999525   0.177865 \n",
       " 0.919885    0.765866   0.7029        0.63438     0.129155   0.927831 \n",
       " 0.284132    0.805546   0.527945      0.943892    0.348865   0.946451 \n",
       " 0.480407    0.470364   0.0873344     0.861388    0.69152    0.876429 \n",
       " 0.00758989  0.995027   0.147018      0.780868    0.470045   0.0439708\n",
       " 0.774955    0.669862   0.292654   …  0.449939    0.766875   0.984244 \n",
       " 0.842654    0.612545   0.675971      0.391198    0.880004   0.313298 \n",
       " 0.967773    0.361279   0.659904      0.00195501  0.650641   0.23636  \n",
       " 0.365095    0.324545   0.407895      0.418601    0.0853106  0.98914  \n",
       " 0.18348     0.755246   0.790206      0.596313    0.702847   0.0258582\n",
       " 0.874712    0.896904   0.479581   …  0.458387    0.0418343  0.0631042\n",
       " 0.568411    0.462533   0.955932      0.851549    0.734647   0.414383 \n",
       " 0.152554    0.986943   0.399207      0.0767178   0.732767   0.177725 \n",
       " ⋮                                 ⋱                                  \n",
       " 0.593954    0.0898184  0.477264      0.876844    0.64202    0.799091 \n",
       " 0.723083    0.160527   0.728466      0.463367    0.229544   0.496598 \n",
       " 0.323125    0.685872   0.559906   …  0.777784    0.637334   0.832904 \n",
       " 0.689145    0.227528   0.965211      0.143711    0.190082   0.431516 \n",
       " 0.500634    0.691431   0.318173      0.813146    0.439161   0.841561 \n",
       " 0.504651    0.0714085  0.244494      0.154919    0.088866   0.436349 \n",
       " 0.489627    0.574801   0.683796      0.763065    0.125414   0.373272 \n",
       " 0.180221    0.677691   0.106615   …  0.522919    0.806497   0.0244369\n",
       " 0.266255    0.627255   0.49211       0.245794    0.763767   0.811376 \n",
       " 0.0716915   0.519078   0.728303      0.551109    0.802806   0.523302 \n",
       " 0.527654    0.0607165  0.876334      0.941848    0.432056   0.989352 \n",
       " 0.0851414   0.564139   0.159705      0.44019     0.576825   0.798529 "
      ]
     },
     "execution_count": 6,
     "metadata": {},
     "output_type": "execute_result"
    }
   ],
   "source": [
    "Ahuge = rand(1000,1000)"
   ]
  },
  {
   "cell_type": "code",
   "execution_count": 7,
   "metadata": {},
   "outputs": [
    {
     "data": {
      "text/plain": [
       "1000-element Array{Float64,1}:\n",
       " 0.6947008745488135  \n",
       " 0.02907693143384571 \n",
       " 0.6808031917756658  \n",
       " 0.6797220372334325  \n",
       " 0.04149007181696063 \n",
       " 0.15830532178707624 \n",
       " 0.7999386237582489  \n",
       " 0.8678568303930079  \n",
       " 0.8738968663151687  \n",
       " 0.6607160300582191  \n",
       " 0.4415052374333508  \n",
       " 0.6940512427954679  \n",
       " 0.1282229952506071  \n",
       " ⋮                   \n",
       " 0.6673214254361928  \n",
       " 0.5361377908811744  \n",
       " 0.4338347783847909  \n",
       " 0.7509831650807932  \n",
       " 0.3598000850600003  \n",
       " 0.21909301088668065 \n",
       " 0.12945174868090792 \n",
       " 0.14916463826062887 \n",
       " 0.32653976529545203 \n",
       " 0.032372096029287034\n",
       " 0.9018150599248427  \n",
       " 0.08765371766791352 "
      ]
     },
     "execution_count": 7,
     "metadata": {},
     "output_type": "execute_result"
    }
   ],
   "source": [
    "bhuge = rand(1000)"
   ]
  },
  {
   "cell_type": "code",
   "execution_count": 8,
   "metadata": {},
   "outputs": [
    {
     "data": {
      "text/plain": [
       "1000-element Array{Float64,1}:\n",
       " -0.37648770418396826\n",
       " -1.3068468914014373 \n",
       "  0.11962522245678789\n",
       " -1.0861490234754185 \n",
       "  0.628740044885442  \n",
       "  0.16579612396033241\n",
       "  0.2727948060025797 \n",
       " -0.23499444808130604\n",
       "  1.0919633377886957 \n",
       "  0.08584531629934318\n",
       " -0.06989642386366839\n",
       " -0.1560520275127202 \n",
       " -0.18611442253007374\n",
       "  ⋮                  \n",
       " -0.3122411495483876 \n",
       "  0.28428476202012354\n",
       "  0.1050277851973511 \n",
       "  0.8377469332750523 \n",
       "  0.06629827643718815\n",
       "  0.21235633174976165\n",
       " -0.2779912834140716 \n",
       " -0.34309348992370897\n",
       " -0.44716945387330015\n",
       "  0.5866183097623838 \n",
       " -0.2947538694258765 \n",
       " -0.2588849564264055 "
      ]
     },
     "execution_count": 8,
     "metadata": {},
     "output_type": "execute_result"
    }
   ],
   "source": [
    "Ahuge \\ bhuge"
   ]
  },
  {
   "cell_type": "code",
   "execution_count": 9,
   "metadata": {},
   "outputs": [
    {
     "name": "stdout",
     "output_type": "stream",
     "text": [
      "  0.034279 seconds (9 allocations: 7.645 MiB)\n",
      "  0.035363 seconds (9 allocations: 7.645 MiB, 13.31% gc time)\n",
      "  0.029018 seconds (9 allocations: 7.645 MiB)\n"
     ]
    }
   ],
   "source": [
    "@time Ahuge \\ bhuge;\n",
    "@time Ahuge \\ bhuge;\n",
    "@time Ahuge \\ bhuge;"
   ]
  },
  {
   "cell_type": "markdown",
   "metadata": {},
   "source": [
    "If we want to see the matrix $U$ from above, we use the fact (covered soon in 18.06) that Gaussian elimination is really \"LU\" factorization, performed by the function `lufact` in the built-in `LinearAlgebra` package. By default, however, \"serious\" computer implementations of this process automatically re-order the rows to reduce the effect of roundoff errors, so we need to pass an extra option that tells Julia not to do this.  (You should *not* normally do this, except for learning exercises.)"
   ]
  },
  {
   "cell_type": "code",
   "execution_count": 10,
   "metadata": {},
   "outputs": [],
   "source": [
    "using LinearAlgebra"
   ]
  },
  {
   "cell_type": "code",
   "execution_count": 11,
   "metadata": {},
   "outputs": [
    {
     "data": {
      "text/plain": [
       "3×4 Array{Float64,2}:\n",
       " 1.0   3.0   1.0   9.0\n",
       " 0.0  -2.0  -2.0  -8.0\n",
       " 0.0   0.0   1.0   0.0"
      ]
     },
     "execution_count": 11,
     "metadata": {},
     "output_type": "execute_result"
    }
   ],
   "source": [
    "# LU factorization (Gaussian elimination) of the augumented matrix [A b], \n",
    "# passing the somewhat obscure Val(false) option to prevent row re-ordering\n",
    "F = lu([A b], Val(false)) # a \"factorization\" object storing both L and U\n",
    "F.U # just show U"
   ]
  }
 ],
 "metadata": {
  "anaconda-cloud": {},
  "kernelspec": {
   "display_name": "Julia 1.5.3",
   "language": "julia",
   "name": "julia-1.5"
  },
  "language_info": {
   "file_extension": ".jl",
   "mimetype": "application/julia",
   "name": "julia",
   "version": "1.5.3"
  },
  "widgets": {
   "state": {
    "294167a6-1234-43dc-aef6-951949f1fac6": {
     "views": [
      {
       "cell_index": 26
      }
     ]
    },
    "41f7367b-0ad3-43e3-bd43-c6e4a1618e8d": {
     "views": [
      {
       "cell_index": 19
      }
     ]
    },
    "6e3620ec-4915-4734-8d3a-3332fdc63970": {
     "views": [
      {
       "cell_index": 16
      }
     ]
    },
    "ce72699c-d8cc-4a03-902b-a490178223e5": {
     "views": [
      {
       "cell_index": 17
      }
     ]
    },
    "db2d9825-08d3-4028-8072-1e865d1a0c4f": {
     "views": [
      {
       "cell_index": 23
      }
     ]
    }
   },
   "version": "1.2.0"
  }
 },
 "nbformat": 4,
 "nbformat_minor": 2
}
